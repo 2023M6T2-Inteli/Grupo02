{
 "cells": [
  {
   "cell_type": "code",
   "execution_count": 1,
   "metadata": {},
   "outputs": [
    {
     "name": "stderr",
     "output_type": "stream",
     "text": [
      "\n",
      "Found https:\\www.zapimoveis.com.br\\blog\\wp-content\\uploads\\2015\\03\\shutterstock_147905213.jpg locally at shutterstock_147905213.jpg\n",
      "image 1/1 C:\\Users\\alber\\OneDrive\\Documentos\\GitHub\\Grupo02\\src\\visao_computacional\\shutterstock_147905213.jpg: 448x640 (no detections), 140.1ms\n",
      "Speed: 3.7ms preprocess, 140.1ms inference, 1.0ms postprocess per image at shape (1, 3, 640, 640)\n"
     ]
    }
   ],
   "source": [
    "from ultralytics import YOLO\n",
    "\n",
    "# Load a model\n",
    "\n",
    "# load a pretrained model (recommended for training)\n",
    "model = YOLO(\"model_filtered.pt\")\n",
    "\n",
    "\n",
    "# predict on an image\n",
    "results = model.predict(\"https://www.zapimoveis.com.br/blog/wp-content/uploads/2015/03/shutterstock_147905213.jpg\",conf=0.8)\n",
    "\n",
    "#save result\n"
   ]
  },
  {
   "cell_type": "code",
   "execution_count": 2,
   "metadata": {},
   "outputs": [],
   "source": [
    "image = results[0].plot()"
   ]
  },
  {
   "cell_type": "code",
   "execution_count": 3,
   "metadata": {},
   "outputs": [
    {
     "name": "stdout",
     "output_type": "stream",
     "text": [
      "[[[221 196 164]\n",
      "  [221 196 164]\n",
      "  [221 196 164]\n",
      "  ...\n",
      "  [156 172 185]\n",
      "  [160 176 189]\n",
      "  [162 178 191]]\n",
      "\n",
      " [[221 196 164]\n",
      "  [221 196 164]\n",
      "  [221 196 164]\n",
      "  ...\n",
      "  [163 179 192]\n",
      "  [161 177 190]\n",
      "  [160 176 189]]\n",
      "\n",
      " [[221 196 164]\n",
      "  [221 196 164]\n",
      "  [221 196 164]\n",
      "  ...\n",
      "  [158 171 185]\n",
      "  [154 167 181]\n",
      "  [153 166 180]]\n",
      "\n",
      " ...\n",
      "\n",
      " [[  3  10   3]\n",
      "  [  0   2   0]\n",
      "  [  4  10   5]\n",
      "  ...\n",
      "  [197 201 202]\n",
      "  [203 207 208]\n",
      "  [198 202 203]]\n",
      "\n",
      " [[  2   8   3]\n",
      "  [  0   2   0]\n",
      "  [  5   8   6]\n",
      "  ...\n",
      "  [191 195 196]\n",
      "  [202 206 207]\n",
      "  [202 206 207]]\n",
      "\n",
      " [[  1   7   2]\n",
      "  [  0   2   0]\n",
      "  [  4   7   5]\n",
      "  ...\n",
      "  [189 193 194]\n",
      "  [204 208 209]\n",
      "  [207 211 212]]]\n"
     ]
    }
   ],
   "source": [
    "print(image)"
   ]
  },
  {
   "cell_type": "code",
   "execution_count": 4,
   "metadata": {},
   "outputs": [
    {
     "ename": "",
     "evalue": "",
     "output_type": "error",
     "traceback": [
      "\u001b[1;31mThe Kernel crashed while executing code in the the current cell or a previous cell. Please review the code in the cell(s) to identify a possible cause of the failure. Click <a href='https://aka.ms/vscodeJupyterKernelCrash'>here</a> for more info. View Jupyter <a href='command:jupyter.viewOutput'>log</a> for further details."
     ]
    }
   ],
   "source": [
    "\n",
    "import cv2\n",
    "cv2.imshow(\"teste\",image)"
   ]
  }
 ],
 "metadata": {
  "kernelspec": {
   "display_name": "Python 3",
   "language": "python",
   "name": "python3"
  },
  "language_info": {
   "codemirror_mode": {
    "name": "ipython",
    "version": 3
   },
   "file_extension": ".py",
   "mimetype": "text/x-python",
   "name": "python",
   "nbconvert_exporter": "python",
   "pygments_lexer": "ipython3",
   "version": "3.11.1"
  },
  "orig_nbformat": 4
 },
 "nbformat": 4,
 "nbformat_minor": 2
}
